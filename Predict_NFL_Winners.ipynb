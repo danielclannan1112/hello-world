{
  "nbformat": 4,
  "nbformat_minor": 0,
  "metadata": {
    "colab": {
      "name": "Predict NFL Winners.ipynb",
      "provenance": [],
      "collapsed_sections": [],
      "include_colab_link": true
    },
    "kernelspec": {
      "name": "python3",
      "display_name": "Python 3"
    }
  },
  "cells": [
    {
      "cell_type": "markdown",
      "metadata": {
        "id": "view-in-github",
        "colab_type": "text"
      },
      "source": [
        "<a href=\"https://colab.research.google.com/github/irishcarbomb777/hello-world/blob/master/Predict_NFL_Winners.ipynb\" target=\"_parent\"><img src=\"https://colab.research.google.com/assets/colab-badge.svg\" alt=\"Open In Colab\"/></a>"
      ]
    },
    {
      "cell_type": "markdown",
      "metadata": {
        "id": "9lAVRZMcVhiw"
      },
      "source": [
        "Adapted from \n",
        "https://www.activestate.com/blog/how-to-predict-nfl-winners-with-python/\n",
        "\n",
        "https://gitlab.com/dsblendo/nfl_predicting_game_outcomes/-/blob/master/NFL_game_prediction.ipynb"
      ]
    },
    {
      "cell_type": "code",
      "metadata": {
        "id": "7eRFyJVxHro4"
      },
      "source": [
        "import pandas as pd\n",
        "from pandas import DataFrame, Series\n",
        "from pandas.tseries.offsets import DateOffset\n",
        "import numpy as np\n",
        "import matplotlib.pyplot as plt"
      ],
      "execution_count": null,
      "outputs": []
    },
    {
      "cell_type": "code",
      "metadata": {
        "colab": {
          "base_uri": "https://localhost:8080/"
        },
        "id": "z-HIhLwrFm8B",
        "outputId": "27d686b0-c790-4cbb-f616-764e6a7b4e49"
      },
      "source": [
        "!pip install sportsreference\n",
        "from datetime import datetime\n",
        "from sportsreference.nfl.boxscore import Boxscores, Boxscore"
      ],
      "execution_count": null,
      "outputs": [
        {
          "output_type": "stream",
          "text": [
            "Requirement already satisfied: sportsreference in /usr/local/lib/python3.7/dist-packages (0.5.2)\n",
            "Requirement already satisfied: pyquery>=1.4.0 in /usr/local/lib/python3.7/dist-packages (from sportsreference) (1.4.3)\n",
            "Requirement already satisfied: requests>=2.18.4 in /usr/local/lib/python3.7/dist-packages (from sportsreference) (2.23.0)\n",
            "Requirement already satisfied: pandas>=0.24.1 in /usr/local/lib/python3.7/dist-packages (from sportsreference) (1.1.5)\n",
            "Requirement already satisfied: lxml>=2.1 in /usr/local/lib/python3.7/dist-packages (from pyquery>=1.4.0->sportsreference) (4.2.6)\n",
            "Requirement already satisfied: cssselect>0.7.9 in /usr/local/lib/python3.7/dist-packages (from pyquery>=1.4.0->sportsreference) (1.1.0)\n",
            "Requirement already satisfied: certifi>=2017.4.17 in /usr/local/lib/python3.7/dist-packages (from requests>=2.18.4->sportsreference) (2020.12.5)\n",
            "Requirement already satisfied: chardet<4,>=3.0.2 in /usr/local/lib/python3.7/dist-packages (from requests>=2.18.4->sportsreference) (3.0.4)\n",
            "Requirement already satisfied: urllib3!=1.25.0,!=1.25.1,<1.26,>=1.21.1 in /usr/local/lib/python3.7/dist-packages (from requests>=2.18.4->sportsreference) (1.24.3)\n",
            "Requirement already satisfied: idna<3,>=2.5 in /usr/local/lib/python3.7/dist-packages (from requests>=2.18.4->sportsreference) (2.10)\n",
            "Requirement already satisfied: pytz>=2017.2 in /usr/local/lib/python3.7/dist-packages (from pandas>=0.24.1->sportsreference) (2018.9)\n",
            "Requirement already satisfied: python-dateutil>=2.7.3 in /usr/local/lib/python3.7/dist-packages (from pandas>=0.24.1->sportsreference) (2.8.1)\n",
            "Requirement already satisfied: numpy>=1.15.4 in /usr/local/lib/python3.7/dist-packages (from pandas>=0.24.1->sportsreference) (1.19.5)\n",
            "Requirement already satisfied: six>=1.5 in /usr/local/lib/python3.7/dist-packages (from python-dateutil>=2.7.3->pandas>=0.24.1->sportsreference) (1.15.0)\n"
          ],
          "name": "stdout"
        }
      ]
    },
    {
      "cell_type": "code",
      "metadata": {
        "id": "DS4-RzRdIH8P",
        "colab": {
          "base_uri": "https://localhost:8080/"
        },
        "outputId": "caf00df3-d7fe-4feb-9510-22f1e67f4e01"
      },
      "source": [
        "#Boxscores(1,2020).games\n",
        "game_str = Boxscores(1,2020).games['1-2020'][0]['boxscore']\n",
        "game_stats = Boxscore(game_str)\n",
        "game_stats.dataframe\n",
        "game_stats.dataframe.columns"
      ],
      "execution_count": null,
      "outputs": [
        {
          "output_type": "execute_result",
          "data": {
            "text/plain": [
              "Index(['attendance', 'away_first_downs', 'away_fourth_down_attempts',\n",
              "       'away_fourth_down_conversions', 'away_fumbles', 'away_fumbles_lost',\n",
              "       'away_interceptions', 'away_net_pass_yards', 'away_pass_attempts',\n",
              "       'away_pass_completions', 'away_pass_touchdowns', 'away_pass_yards',\n",
              "       'away_penalties', 'away_points', 'away_rush_attempts',\n",
              "       'away_rush_touchdowns', 'away_rush_yards', 'away_third_down_attempts',\n",
              "       'away_third_down_conversions', 'away_time_of_possession',\n",
              "       'away_times_sacked', 'away_total_yards', 'away_turnovers',\n",
              "       'away_yards_from_penalties', 'away_yards_lost_from_sacks', 'date',\n",
              "       'duration', 'home_first_downs', 'home_fourth_down_attempts',\n",
              "       'home_fourth_down_conversions', 'home_fumbles', 'home_fumbles_lost',\n",
              "       'home_interceptions', 'home_net_pass_yards', 'home_pass_attempts',\n",
              "       'home_pass_completions', 'home_pass_touchdowns', 'home_pass_yards',\n",
              "       'home_penalties', 'home_points', 'home_rush_attempts',\n",
              "       'home_rush_touchdowns', 'home_rush_yards', 'home_third_down_attempts',\n",
              "       'home_third_down_conversions', 'home_time_of_possession',\n",
              "       'home_times_sacked', 'home_total_yards', 'home_turnovers',\n",
              "       'home_yards_from_penalties', 'home_yards_lost_from_sacks',\n",
              "       'losing_abbr', 'losing_name', 'stadium', 'time', 'winner',\n",
              "       'winning_abbr', 'winning_name'],\n",
              "      dtype='object')"
            ]
          },
          "metadata": {
            "tags": []
          },
          "execution_count": 43
        }
      ]
    },
    {
      "cell_type": "code",
      "metadata": {
        "colab": {
          "base_uri": "https://localhost:8080/",
          "height": 134
        },
        "id": "C5hArDSTQ7lh",
        "outputId": "6ef51b03-0838-4c3f-cd2a-59181ccdd099"
      },
      "source": [
        "df = game_stats.dataframe[['attendance', 'away_first_downs', 'away_fourth_down_attempts',\n",
        "       'away_fourth_down_conversions', 'away_fumbles', 'away_fumbles_lost',\n",
        "       'away_interceptions', 'away_net_pass_yards', 'away_pass_attempts',\n",
        "       'away_pass_completions', 'away_pass_touchdowns', 'away_pass_yards',\n",
        "       'away_penalties', 'away_points', 'away_rush_attempts',\n",
        "       'away_rush_touchdowns', 'away_rush_yards', 'away_third_down_attempts',\n",
        "       'away_third_down_conversions', 'away_time_of_possession',\n",
        "       'away_times_sacked', 'away_total_yards', 'away_turnovers',\n",
        "       'away_yards_from_penalties', 'away_yards_lost_from_sacks', 'date',\n",
        "       'duration', 'home_first_downs', 'home_fourth_down_attempts',\n",
        "       'home_fourth_down_conversions', 'home_fumbles', 'home_fumbles_lost',\n",
        "       'home_interceptions', 'home_net_pass_yards', 'home_pass_attempts',\n",
        "       'home_pass_completions', 'home_pass_touchdowns', 'home_pass_yards',\n",
        "       'home_penalties', 'home_points', 'home_rush_attempts',\n",
        "       'home_rush_touchdowns', 'home_rush_yards', 'home_third_down_attempts',\n",
        "       'home_third_down_conversions', 'home_time_of_possession',\n",
        "       'home_times_sacked', 'home_total_yards', 'home_turnovers',\n",
        "       'home_yards_from_penalties', 'home_yards_lost_from_sacks',\n",
        "       'losing_abbr', 'losing_name', 'stadium', 'time', 'winner',\n",
        "       'winning_abbr', 'winning_name']]\n",
        "df"
      ],
      "execution_count": null,
      "outputs": [
        {
          "output_type": "execute_result",
          "data": {
            "text/html": [
              "<div>\n",
              "<style scoped>\n",
              "    .dataframe tbody tr th:only-of-type {\n",
              "        vertical-align: middle;\n",
              "    }\n",
              "\n",
              "    .dataframe tbody tr th {\n",
              "        vertical-align: top;\n",
              "    }\n",
              "\n",
              "    .dataframe thead th {\n",
              "        text-align: right;\n",
              "    }\n",
              "</style>\n",
              "<table border=\"1\" class=\"dataframe\">\n",
              "  <thead>\n",
              "    <tr style=\"text-align: right;\">\n",
              "      <th></th>\n",
              "      <th>attendance</th>\n",
              "      <th>away_first_downs</th>\n",
              "      <th>away_fourth_down_attempts</th>\n",
              "      <th>away_fourth_down_conversions</th>\n",
              "      <th>away_fumbles</th>\n",
              "      <th>away_fumbles_lost</th>\n",
              "      <th>away_interceptions</th>\n",
              "      <th>away_net_pass_yards</th>\n",
              "      <th>away_pass_attempts</th>\n",
              "      <th>away_pass_completions</th>\n",
              "      <th>away_pass_touchdowns</th>\n",
              "      <th>away_pass_yards</th>\n",
              "      <th>away_penalties</th>\n",
              "      <th>away_points</th>\n",
              "      <th>away_rush_attempts</th>\n",
              "      <th>away_rush_touchdowns</th>\n",
              "      <th>away_rush_yards</th>\n",
              "      <th>away_third_down_attempts</th>\n",
              "      <th>away_third_down_conversions</th>\n",
              "      <th>away_time_of_possession</th>\n",
              "      <th>away_times_sacked</th>\n",
              "      <th>away_total_yards</th>\n",
              "      <th>away_turnovers</th>\n",
              "      <th>away_yards_from_penalties</th>\n",
              "      <th>away_yards_lost_from_sacks</th>\n",
              "      <th>date</th>\n",
              "      <th>duration</th>\n",
              "      <th>home_first_downs</th>\n",
              "      <th>home_fourth_down_attempts</th>\n",
              "      <th>home_fourth_down_conversions</th>\n",
              "      <th>home_fumbles</th>\n",
              "      <th>home_fumbles_lost</th>\n",
              "      <th>home_interceptions</th>\n",
              "      <th>home_net_pass_yards</th>\n",
              "      <th>home_pass_attempts</th>\n",
              "      <th>home_pass_completions</th>\n",
              "      <th>home_pass_touchdowns</th>\n",
              "      <th>home_pass_yards</th>\n",
              "      <th>home_penalties</th>\n",
              "      <th>home_points</th>\n",
              "      <th>home_rush_attempts</th>\n",
              "      <th>home_rush_touchdowns</th>\n",
              "      <th>home_rush_yards</th>\n",
              "      <th>home_third_down_attempts</th>\n",
              "      <th>home_third_down_conversions</th>\n",
              "      <th>home_time_of_possession</th>\n",
              "      <th>home_times_sacked</th>\n",
              "      <th>home_total_yards</th>\n",
              "      <th>home_turnovers</th>\n",
              "      <th>home_yards_from_penalties</th>\n",
              "      <th>home_yards_lost_from_sacks</th>\n",
              "      <th>losing_abbr</th>\n",
              "      <th>losing_name</th>\n",
              "      <th>stadium</th>\n",
              "      <th>time</th>\n",
              "      <th>winner</th>\n",
              "      <th>winning_abbr</th>\n",
              "      <th>winning_name</th>\n",
              "    </tr>\n",
              "  </thead>\n",
              "  <tbody>\n",
              "    <tr>\n",
              "      <th>202009100kan</th>\n",
              "      <td>15895</td>\n",
              "      <td>21</td>\n",
              "      <td>1</td>\n",
              "      <td>1</td>\n",
              "      <td>0</td>\n",
              "      <td>0</td>\n",
              "      <td>1</td>\n",
              "      <td>242</td>\n",
              "      <td>32</td>\n",
              "      <td>20</td>\n",
              "      <td>1</td>\n",
              "      <td>253</td>\n",
              "      <td>5</td>\n",
              "      <td>20</td>\n",
              "      <td>22</td>\n",
              "      <td>2</td>\n",
              "      <td>118</td>\n",
              "      <td>10</td>\n",
              "      <td>4</td>\n",
              "      <td>25:13</td>\n",
              "      <td>4</td>\n",
              "      <td>360</td>\n",
              "      <td>1</td>\n",
              "      <td>37</td>\n",
              "      <td>11</td>\n",
              "      <td>Thursday Sep 10, 2020</td>\n",
              "      <td>2:53</td>\n",
              "      <td>28</td>\n",
              "      <td>1</td>\n",
              "      <td>1</td>\n",
              "      <td>0</td>\n",
              "      <td>0</td>\n",
              "      <td>0</td>\n",
              "      <td>203</td>\n",
              "      <td>32</td>\n",
              "      <td>24</td>\n",
              "      <td>3</td>\n",
              "      <td>211</td>\n",
              "      <td>1</td>\n",
              "      <td>34</td>\n",
              "      <td>34</td>\n",
              "      <td>1</td>\n",
              "      <td>166</td>\n",
              "      <td>13</td>\n",
              "      <td>7</td>\n",
              "      <td>34:47</td>\n",
              "      <td>1</td>\n",
              "      <td>369</td>\n",
              "      <td>0</td>\n",
              "      <td>5</td>\n",
              "      <td>8</td>\n",
              "      <td>HTX</td>\n",
              "      <td>Houston Texans</td>\n",
              "      <td>Arrowhead Stadium</td>\n",
              "      <td>8:20pm</td>\n",
              "      <td>Home</td>\n",
              "      <td>KAN</td>\n",
              "      <td>Kansas City Chiefs</td>\n",
              "    </tr>\n",
              "  </tbody>\n",
              "</table>\n",
              "</div>"
            ],
            "text/plain": [
              "              attendance  away_first_downs  ...  winning_abbr        winning_name\n",
              "202009100kan       15895                21  ...           KAN  Kansas City Chiefs\n",
              "\n",
              "[1 rows x 58 columns]"
            ]
          },
          "metadata": {
            "tags": []
          },
          "execution_count": 44
        }
      ]
    },
    {
      "cell_type": "code",
      "metadata": {
        "id": "jWksfUjIGMI4"
      },
      "source": [
        "def game_data(game_df,game_stats):\n",
        "    try:\n",
        "        away_team_df = game_df[['away_name', 'away_abbr', 'away_score']].rename(columns = {'away_name': 'team_name', 'away_abbr': 'team_abbr', 'away_score': 'score'})\n",
        "        home_team_df = game_df[['home_name','home_abbr', 'home_score']].rename(columns = {'home_name': 'team_name', 'home_abbr': 'team_abbr', 'home_score': 'score'})\n",
        "        try:\n",
        "            if game_df.loc[0,'away_score'] > game_df.loc[0,'home_score']:\n",
        "                away_team_df = pd.merge(away_team_df, pd.DataFrame({'game_won' : [1], 'game_lost' : [0]}),left_index = True, right_index = True)\n",
        "                home_team_df = pd.merge(home_team_df, pd.DataFrame({'game_won' : [0], 'game_lost' : [1]}),left_index = True, right_index = True)\n",
        "            elif game_df.loc[0,'away_score'] < game_df.loc[0,'home_score']:\n",
        "                away_team_df = pd.merge(away_team_df, pd.DataFrame({'game_won' : [0], 'game_lost' : [1]}),left_index = True, right_index = True)\n",
        "                home_team_df = pd.merge(home_team_df, pd.DataFrame({'game_won' : [1], 'game_lost' : [0]}),left_index = True, right_index = True)\n",
        "            else: \n",
        "                away_team_df = pd.merge(away_team_df, pd.DataFrame({'game_won' : [0], 'game_lost' : [0]}),left_index = True, right_index = True)\n",
        "                home_team_df = pd.merge(home_team_df, pd.DataFrame({'game_won' : [0], 'game_lost' : [0]}),left_index = True, right_index = True)\n",
        "        except TypeError:\n",
        "                away_team_df = pd.merge(away_team_df, pd.DataFrame({'game_won' : [np.nan], 'game_lost' : [np.nan]}),left_index = True, right_index = True)\n",
        "                home_team_df = pd.merge(home_team_df, pd.DataFrame({'game_won' : [np.nan], 'game_lost' : [np.nan]}),left_index = True, right_index = True)        \n",
        "\n",
        "        away_stats_df = game_stats.dataframe[['away_first_downs', 'away_fourth_down_attempts',\n",
        "               'away_fourth_down_conversions', 'away_fumbles', 'away_fumbles_lost',\n",
        "               'away_interceptions', 'away_net_pass_yards', 'away_pass_attempts',\n",
        "               'away_pass_completions', 'away_pass_touchdowns', 'away_pass_yards',\n",
        "               'away_penalties', 'away_points', 'away_rush_attempts',\n",
        "               'away_rush_touchdowns', 'away_rush_yards', 'away_third_down_attempts',\n",
        "               'away_third_down_conversions', 'away_time_of_possession',\n",
        "               'away_times_sacked', 'away_total_yards', 'away_turnovers',\n",
        "               'away_yards_from_penalties', 'away_yards_lost_from_sacks']].reset_index().drop(columns ='index').rename(columns = {\n",
        "               'away_first_downs': 'first_downs', 'away_fourth_down_attempts':'fourth_down_attempts',\n",
        "               'away_fourth_down_conversions':'fourth_down_conversions' , 'away_fumbles': 'fumbles', 'away_fumbles_lost': 'fumbles_lost',\n",
        "               'away_interceptions': 'interceptions', 'away_net_pass_yards':'net_pass_yards' , 'away_pass_attempts': 'pass_attempts',\n",
        "               'away_pass_completions':'pass_completions' , 'away_pass_touchdowns': 'pass_touchdowns', 'away_pass_yards': 'pass_yards',\n",
        "               'away_penalties': 'penalties', 'away_points': 'points', 'away_rush_attempts': 'rush_attempts',\n",
        "               'away_rush_touchdowns': 'rush_touchdowns', 'away_rush_yards': 'rush_yards', 'away_third_down_attempts': 'third_down_attempts',\n",
        "               'away_third_down_conversions': 'third_down_conversions', 'away_time_of_possession': 'time_of_possession',\n",
        "               'away_times_sacked': 'times_sacked', 'away_total_yards': 'total_yards', 'away_turnovers': 'turnovers',\n",
        "               'away_yards_from_penalties':'yards_from_penalties', 'away_yards_lost_from_sacks': 'yards_lost_from_sacks'})\n",
        "\n",
        "        home_stats_df = game_stats.dataframe[['home_first_downs', 'home_fourth_down_attempts',\n",
        "               'home_fourth_down_conversions', 'home_fumbles', 'home_fumbles_lost',\n",
        "               'home_interceptions', 'home_net_pass_yards', 'home_pass_attempts',\n",
        "               'home_pass_completions', 'home_pass_touchdowns', 'home_pass_yards',\n",
        "               'home_penalties', 'home_points', 'home_rush_attempts',\n",
        "               'home_rush_touchdowns', 'home_rush_yards', 'home_third_down_attempts',\n",
        "               'home_third_down_conversions', 'home_time_of_possession',\n",
        "               'home_times_sacked', 'home_total_yards', 'home_turnovers',\n",
        "               'home_yards_from_penalties', 'home_yards_lost_from_sacks']].reset_index().drop(columns = 'index').rename(columns = {\n",
        "               'home_first_downs': 'first_downs', 'home_fourth_down_attempts':'fourth_down_attempts',\n",
        "               'home_fourth_down_conversions':'fourth_down_conversions' , 'home_fumbles': 'fumbles', 'home_fumbles_lost': 'fumbles_lost',\n",
        "               'home_interceptions': 'interceptions', 'home_net_pass_yards':'net_pass_yards' , 'home_pass_attempts': 'pass_attempts',\n",
        "               'home_pass_completions':'pass_completions' , 'home_pass_touchdowns': 'pass_touchdowns', 'home_pass_yards': 'pass_yards',\n",
        "               'home_penalties': 'penalties', 'home_points': 'points', 'home_rush_attempts': 'rush_attempts',\n",
        "               'home_rush_touchdowns': 'rush_touchdowns', 'home_rush_yards': 'rush_yards', 'home_third_down_attempts': 'third_down_attempts',\n",
        "               'home_third_down_conversions': 'third_down_conversions', 'home_time_of_possession': 'time_of_possession',\n",
        "               'home_times_sacked': 'times_sacked', 'home_total_yards': 'total_yards', 'home_turnovers': 'turnovers',\n",
        "               'home_yards_from_penalties':'yards_from_penalties', 'home_yards_lost_from_sacks': 'yards_lost_from_sacks'})\n",
        "\n",
        "        away_team_df = pd.merge(away_team_df, away_stats_df,left_index = True, right_index = True)\n",
        "        home_team_df = pd.merge(home_team_df, home_stats_df,left_index = True, right_index = True)\n",
        "        try:\n",
        "            away_team_df['time_of_possession'] = (int(away_team_df['time_of_possession'].loc[0][0:2]) * 60) + int(away_team_df['time_of_possession'].loc[0][3:5])\n",
        "            home_team_df['time_of_possession'] = (int(home_team_df['time_of_possession'].loc[0][0:2]) * 60) + int(home_team_df['time_of_possession'].loc[0][3:5])\n",
        "        except TypeError:\n",
        "            away_team_df['time_of_possession'] = np.nan\n",
        "            home_team_df['time_of_possession'] = np.nan\n",
        "    except TypeError:\n",
        "        away_team_df = pd.DataFrame()\n",
        "        home_team_df = pd.DataFrame()\n",
        "    return away_team_df, home_team_df"
      ],
      "execution_count": null,
      "outputs": []
    },
    {
      "cell_type": "code",
      "metadata": {
        "id": "TZlww24PVPor"
      },
      "source": [
        "def game_data_up_to_week(weeks,year):\n",
        "    weeks_games_df = pd.DataFrame()\n",
        "    for w in range(len(weeks)):\n",
        "        date_string = str(weeks[w]) + '-' + str(year)\n",
        "        week_scores = Boxscores(weeks[w],year)\n",
        "        week_games_df = pd.DataFrame()\n",
        "        for g in range(len(week_scores.games[date_string])):\n",
        "            game_str = week_scores.games[date_string][g]['boxscore']\n",
        "            game_stats = Boxscore(game_str)\n",
        "            game_df = pd.DataFrame(week_scores.games[date_string][g], index = [0])\n",
        "            away_team_df, home_team_df = game_data(game_df,game_stats)\n",
        "            away_team_df['week'] = weeks[w]\n",
        "            home_team_df['week'] = weeks[w]\n",
        "            week_games_df = pd.concat([week_games_df,away_team_df])\n",
        "            week_games_df = pd.concat([week_games_df,home_team_df])\n",
        "        weeks_games_df = pd.concat([weeks_games_df,week_games_df])\n",
        "    return weeks_games_df"
      ],
      "execution_count": null,
      "outputs": []
    },
    {
      "cell_type": "code",
      "metadata": {
        "id": "sreGE3XqGeVE"
      },
      "source": [
        "def get_schedule(year):\n",
        "    weeks = list(range(1,18))\n",
        "    schedule_df = pd.DataFrame()\n",
        "    for w in range(len(weeks)):\n",
        "        date_string = str(weeks[w]) + '-' + str(year)\n",
        "        week_scores = Boxscores(weeks[w],year)\n",
        "        week_games_df = pd.DataFrame()\n",
        "        for g in range(len(week_scores.games[date_string])):\n",
        "            game = pd.DataFrame(week_scores.games[date_string][g], index = [0])[['away_name', 'away_abbr','home_name', 'home_abbr','winning_name', 'winning_abbr' ]]\n",
        "            game['week'] = weeks[w]\n",
        "            week_games_df = pd.concat([week_games_df,game])\n",
        "        schedule_df = pd.concat([schedule_df, week_games_df]).reset_index().drop(columns = 'index') \n",
        "    return schedule_df "
      ],
      "execution_count": null,
      "outputs": []
    },
    {
      "cell_type": "code",
      "metadata": {
        "id": "T8nIPdifGjTf"
      },
      "source": [
        "def agg_weekly_data(schedule_df,weeks_games_df,current_week,weeks):\n",
        "    schedule_df = schedule_df[schedule_df.week < current_week]\n",
        "    agg_games_df = pd.DataFrame()\n",
        "    for w in range(1,len(weeks)):\n",
        "        games_df = schedule_df[schedule_df.week == weeks[w]]\n",
        "        agg_weekly_df = weeks_games_df[weeks_games_df.week < weeks[w]].drop(columns = ['score','week','game_won', 'game_lost']).groupby(by=[\"team_name\", \"team_abbr\"]).mean().reset_index()\n",
        "        win_loss_df = weeks_games_df[weeks_games_df.week < weeks[w]][[\"team_name\", \"team_abbr\",'game_won', 'game_lost']].groupby(by=[\"team_name\", \"team_abbr\"]).sum().reset_index()\n",
        "        win_loss_df['win_perc'] = win_loss_df['game_won'] / (win_loss_df['game_won'] + win_loss_df['game_lost'])\n",
        "        win_loss_df = win_loss_df.drop(columns = ['game_won', 'game_lost'])\n",
        "\n",
        "        try:\n",
        "            agg_weekly_df['fourth_down_perc'] = agg_weekly_df['fourth_down_conversions'] / agg_weekly_df['fourth_down_attempts']  \n",
        "        except ZeroDivisionError:\n",
        "            agg_weekly_df['fourth_down_perc'] = 0 \n",
        "        agg_weekly_df['fourth_down_perc'] = agg_weekly_df['fourth_down_perc'].fillna(0)\n",
        "\n",
        "        try:\n",
        "            agg_weekly_df['third_down_perc'] = agg_weekly_df['third_down_conversions'] / agg_weekly_df['third_down_attempts']  \n",
        "        except ZeroDivisionError:\n",
        "            agg_weekly_df['third_down_perc'] = 0\n",
        "        agg_weekly_df['third_down_perc'] = agg_weekly_df['third_down_perc'].fillna(0)  \n",
        "\n",
        "        agg_weekly_df = agg_weekly_df.drop(columns = ['fourth_down_attempts', 'fourth_down_conversions', 'third_down_attempts', 'third_down_conversions'])\n",
        "        agg_weekly_df = pd.merge(win_loss_df,agg_weekly_df,left_on = ['team_name', 'team_abbr'], right_on = ['team_name', 'team_abbr'])\n",
        "\n",
        "        away_df = pd.merge(games_df,agg_weekly_df,how = 'inner', left_on = ['away_name', 'away_abbr'], right_on = ['team_name', 'team_abbr']).drop(columns = ['team_name', 'team_abbr']).rename(columns = {\n",
        "                'win_perc': 'away_win_perc',\n",
        "               'first_downs': 'away_first_downs', 'fumbles': 'away_fumbles', 'fumbles_lost':'away_fumbles_lost', 'interceptions':'away_interceptions',\n",
        "               'net_pass_yards': 'away_net_pass_yards', 'pass_attempts':'away_pass_attempts', 'pass_completions':'away_pass_completions',\n",
        "               'pass_touchdowns':'away_pass_touchdowns', 'pass_yards':'away_pass_yards', 'penalties':'away_penalties', 'points':'away_points', 'rush_attempts':'away_rush_attempts',\n",
        "               'rush_touchdowns':'away_rush_touchdowns', 'rush_yards':'away_rush_yards', 'time_of_possession':'away_time_of_possession', 'times_sacked':'away_times_sacked',\n",
        "               'total_yards':'away_total_yards', 'turnovers':'away_turnovers', 'yards_from_penalties':'away_yards_from_penalties',\n",
        "               'yards_lost_from_sacks': 'away_yards_lost_from_sacks', 'fourth_down_perc':'away_fourth_down_perc', 'third_down_perc':'away_third_down_perc'})\n",
        "\n",
        "        home_df = pd.merge(games_df,agg_weekly_df,how = 'inner', left_on = ['home_name', 'home_abbr'], right_on = ['team_name', 'team_abbr']).drop(columns = ['team_name', 'team_abbr']).rename(columns = {\n",
        "                'win_perc': 'home_win_perc',\n",
        "               'first_downs': 'home_first_downs', 'fumbles': 'home_fumbles', 'fumbles_lost':'home_fumbles_lost', 'interceptions':'home_interceptions',\n",
        "               'net_pass_yards': 'home_net_pass_yards', 'pass_attempts':'home_pass_attempts', 'pass_completions':'home_pass_completions',\n",
        "               'pass_touchdowns':'home_pass_touchdowns', 'pass_yards':'home_pass_yards', 'penalties':'home_penalties', 'points':'home_points', 'rush_attempts':'home_rush_attempts',\n",
        "               'rush_touchdowns':'home_rush_touchdowns', 'rush_yards':'home_rush_yards', 'time_of_possession':'home_time_of_possession', 'times_sacked':'home_times_sacked',\n",
        "               'total_yards':'home_total_yards', 'turnovers':'home_turnovers', 'yards_from_penalties':'home_yards_from_penalties',\n",
        "               'yards_lost_from_sacks': 'home_yards_lost_from_sacks', 'fourth_down_perc':'home_fourth_down_perc', 'third_down_perc':'home_third_down_perc'})\n",
        "\n",
        "        agg_weekly_df = pd.merge(away_df,home_df,left_on = ['away_name', 'away_abbr', 'home_name', 'home_abbr', 'winning_name',\n",
        "               'winning_abbr', 'week'], right_on = ['away_name', 'away_abbr', 'home_name', 'home_abbr', 'winning_name',\n",
        "               'winning_abbr', 'week'])\n",
        "\n",
        "        agg_weekly_df['win_perc_dif'] = agg_weekly_df['away_win_perc'] - agg_weekly_df['home_win_perc']\n",
        "        agg_weekly_df['first_downs_dif'] = agg_weekly_df['away_first_downs'] - agg_weekly_df['home_first_downs']\n",
        "        agg_weekly_df['fumbles_dif'] = agg_weekly_df['away_fumbles'] - agg_weekly_df['home_fumbles']\n",
        "        agg_weekly_df['interceptions_dif'] = agg_weekly_df['away_interceptions'] - agg_weekly_df['home_interceptions']\n",
        "        agg_weekly_df['net_pass_yards_dif'] = agg_weekly_df['away_net_pass_yards'] - agg_weekly_df['home_net_pass_yards']\n",
        "        agg_weekly_df['pass_attempts_dif'] = agg_weekly_df['away_pass_attempts'] - agg_weekly_df['home_pass_attempts']\n",
        "        agg_weekly_df['pass_completions_dif'] = agg_weekly_df['away_pass_completions'] - agg_weekly_df['home_pass_completions']\n",
        "        agg_weekly_df['pass_touchdowns_dif'] = agg_weekly_df['away_pass_touchdowns'] - agg_weekly_df['home_pass_touchdowns']\n",
        "        agg_weekly_df['pass_yards_dif'] = agg_weekly_df['away_pass_yards'] - agg_weekly_df['home_pass_yards']\n",
        "        agg_weekly_df['penalties_dif'] = agg_weekly_df['away_penalties'] - agg_weekly_df['home_penalties']\n",
        "        agg_weekly_df['points_dif'] = agg_weekly_df['away_points'] - agg_weekly_df['home_points']\n",
        "        agg_weekly_df['rush_attempts_dif'] = agg_weekly_df['away_rush_attempts'] - agg_weekly_df['home_rush_attempts']\n",
        "        agg_weekly_df['rush_touchdowns_dif'] = agg_weekly_df['away_rush_touchdowns'] - agg_weekly_df['home_rush_touchdowns']\n",
        "        agg_weekly_df['rush_yards_dif'] = agg_weekly_df['away_rush_yards'] - agg_weekly_df['home_rush_yards']\n",
        "        agg_weekly_df['time_of_possession_dif'] = agg_weekly_df['away_time_of_possession'] - agg_weekly_df['home_time_of_possession']\n",
        "        agg_weekly_df['times_sacked_dif'] = agg_weekly_df['away_times_sacked'] - agg_weekly_df['home_times_sacked']\n",
        "        agg_weekly_df['total_yards_dif'] = agg_weekly_df['away_total_yards'] - agg_weekly_df['home_total_yards']\n",
        "        agg_weekly_df['turnovers_dif'] = agg_weekly_df['away_turnovers'] - agg_weekly_df['home_turnovers']\n",
        "        agg_weekly_df['yards_from_penalties_dif'] = agg_weekly_df['away_yards_from_penalties'] - agg_weekly_df['home_yards_from_penalties']\n",
        "        agg_weekly_df['yards_lost_from_sacks_dif'] = agg_weekly_df['away_yards_lost_from_sacks'] - agg_weekly_df['home_yards_lost_from_sacks']\n",
        "        agg_weekly_df['fourth_down_perc_dif'] = agg_weekly_df['away_fourth_down_perc'] - agg_weekly_df['home_fourth_down_perc']\n",
        "        agg_weekly_df['third_down_perc_dif'] = agg_weekly_df['away_third_down_perc'] - agg_weekly_df['home_third_down_perc']\n",
        "\n",
        "        agg_weekly_df = agg_weekly_df.drop(columns = ['away_win_perc',\n",
        "               'away_first_downs', 'away_fumbles', 'away_fumbles_lost', 'away_interceptions',\n",
        "               'away_net_pass_yards', 'away_pass_attempts','away_pass_completions',\n",
        "               'away_pass_touchdowns', 'away_pass_yards', 'away_penalties', 'away_points', 'away_rush_attempts',\n",
        "               'away_rush_touchdowns', 'away_rush_yards', 'away_time_of_possession', 'away_times_sacked',\n",
        "               'away_total_yards', 'away_turnovers', 'away_yards_from_penalties',\n",
        "               'away_yards_lost_from_sacks','away_fourth_down_perc', 'away_third_down_perc','home_win_perc',\n",
        "               'home_first_downs', 'home_fumbles', 'home_fumbles_lost', 'home_interceptions',\n",
        "               'home_net_pass_yards', 'home_pass_attempts','home_pass_completions',\n",
        "               'home_pass_touchdowns', 'home_pass_yards', 'home_penalties', 'home_points', 'home_rush_attempts',\n",
        "               'home_rush_touchdowns', 'home_rush_yards', 'home_time_of_possession', 'home_times_sacked',\n",
        "               'home_total_yards', 'home_turnovers', 'home_yards_from_penalties',\n",
        "               'home_yards_lost_from_sacks','home_fourth_down_perc', 'home_third_down_perc'])\n",
        "        \n",
        "        if (agg_weekly_df['winning_name'].isnull().values.any() and weeks[w] > 3):\n",
        "            agg_weekly_df['result'] = np.nan\n",
        "            print(f\"Week {weeks[w]} games have not finished yet.\")\n",
        "        else:\n",
        "            agg_weekly_df['result'] = agg_weekly_df['winning_name'] == agg_weekly_df['away_name']\n",
        "            agg_weekly_df['result'] = agg_weekly_df['result'].astype('float')\n",
        "        agg_weekly_df = agg_weekly_df.drop(columns = ['winning_name', 'winning_abbr'])\n",
        "        agg_games_df = pd.concat([agg_games_df, agg_weekly_df])\n",
        "    agg_games_df = agg_games_df.reset_index().drop(columns = 'index')\n",
        "    agg_games_df = agg_games_df.drop(index = 20, axis=0)\n",
        "    return agg_games_df"
      ],
      "execution_count": null,
      "outputs": []
    },
    {
      "cell_type": "code",
      "metadata": {
        "id": "DA22zeYHGmBG"
      },
      "source": [
        "def get_elo():\n",
        "    import io\n",
        "    import requests\n",
        "    #https://github.com/fivethirtyeight/data/tree/master/nfl-elo info on variable names\n",
        "    url = \"https://projects.fivethirtyeight.com/nfl-api/nfl_elo.csv\"\n",
        "    s=requests.get(url).content\n",
        "    elo_df=pd.read_csv(io.StringIO(s.decode('utf-8')))\n",
        "    elo_df = elo_df[elo_df['season'] >= 2020]\n",
        "\n",
        "    elo_df = elo_df.drop(columns = ['season','neutral' ,'playoff', 'elo_prob1', 'elo_prob2', 'elo1_post', 'elo2_post',\n",
        "           'qbelo1_pre', 'qbelo2_pre', 'qb1', 'qb2', 'qb1_adj', 'qb2_adj', 'qbelo_prob1', 'qbelo_prob2',\n",
        "           'qb1_game_value', 'qb2_game_value', 'qb1_value_post', 'qb2_value_post',\n",
        "           'qbelo1_post', 'qbelo2_post', 'score1', 'score2'])\n",
        "    elo_df.date = pd.to_datetime(elo_df.date)\n",
        "    elo_df = elo_df[elo_df.date < '01-05-2022']\n",
        "\n",
        "    elo_df['team1'] = elo_df['team1'].replace(['KC', 'JAX', 'CAR', 'BAL', 'BUF', 'MIN', 'DET', 'ATL', 'NE', 'WSH',\n",
        "           'CIN', 'NO', 'SF', 'LAR', 'NYG', 'DEN', 'CLE', 'IND', 'TEN', 'NYJ',\n",
        "           'TB', 'MIA', 'PIT', 'PHI', 'GB', 'CHI', 'DAL', 'ARI', 'LAC', 'HOU',\n",
        "           'SEA', 'OAK'],\n",
        "            ['kan','jax','car', 'rav', 'buf', 'min', 'det', 'atl', 'nwe', 'was', \n",
        "            'cin', 'nor', 'sfo', 'ram', 'nyg', 'den', 'cle', 'clt', 'oti', 'nyj', \n",
        "             'tam','mia', 'pit', 'phi', 'gnb', 'chi', 'dal', 'crd', 'sdg', 'htx', 'sea', 'rai' ])\n",
        "    elo_df['team2'] = elo_df['team2'].replace(['KC', 'JAX', 'CAR', 'BAL', 'BUF', 'MIN', 'DET', 'ATL', 'NE', 'WSH',\n",
        "           'CIN', 'NO', 'SF', 'LAR', 'NYG', 'DEN', 'CLE', 'IND', 'TEN', 'NYJ',\n",
        "           'TB', 'MIA', 'PIT', 'PHI', 'GB', 'CHI', 'DAL', 'ARI', 'LAC', 'HOU',\n",
        "           'SEA', 'OAK'],\n",
        "            ['kan','jax','car', 'rav', 'buf', 'min', 'det', 'atl', 'nwe', 'was', \n",
        "            'cin', 'nor', 'sfo', 'ram', 'nyg', 'den', 'cle', 'clt', 'oti', 'nyj', \n",
        "             'tam','mia', 'pit', 'phi', 'gnb', 'chi', 'dal', 'crd', 'sdg', 'htx', 'sea', 'rai' ])\n",
        "    return elo_df\n"
      ],
      "execution_count": null,
      "outputs": []
    },
    {
      "cell_type": "code",
      "metadata": {
        "id": "K-rmD_0BGoja"
      },
      "source": [
        "def merge_rankings(agg_games_df,elo_df):\n",
        "    agg_games_df = pd.merge(agg_games_df, elo_df, how = 'inner', left_on = ['home_abbr', 'away_abbr'], right_on = ['team1', 'team2']).drop(columns = ['date','team1', 'team2'])\n",
        "    agg_games_df['elo_dif'] = agg_games_df['elo2_pre'] - agg_games_df['elo1_pre']\n",
        "    agg_games_df['qb_dif'] = agg_games_df['qb2_value_pre'] - agg_games_df['qb1_value_pre']\n",
        "    agg_games_df = agg_games_df.drop(columns = ['elo1_pre', 'elo2_pre', 'qb1_value_pre', 'qb2_value_pre'])\n",
        "    return agg_games_df"
      ],
      "execution_count": null,
      "outputs": []
    },
    {
      "cell_type": "code",
      "metadata": {
        "id": "qoBs_stxGpX2"
      },
      "source": [
        "def prep_test_train(current_week,weeks,year):\n",
        "    current_week = current_week + 1\n",
        "    schedule_df  = get_schedule(year)\n",
        "    weeks_games_df = game_data_up_to_week(weeks,year)\n",
        "    agg_games_df = agg_weekly_data(schedule_df,weeks_games_df,current_week,weeks)\n",
        "    elo_df = get_elo()\n",
        "    agg_games_df = merge_rankings(agg_games_df, elo_df)\n",
        "    train_df = agg_games_df[agg_games_df.result.notna()]\n",
        "    current_week = current_week - 1\n",
        "    test_df = agg_games_df[agg_games_df.week == current_week]\n",
        "    return test_df, train_df"
      ],
      "execution_count": null,
      "outputs": []
    },
    {
      "cell_type": "code",
      "metadata": {
        "id": "jML-V-XbGsrg"
      },
      "source": [
        "def display(y_pred,X_test):\n",
        "    for g in range(len(y_pred)):\n",
        "        win_prob = round(y_pred[g],2)\n",
        "        away_team = X_test.reset_index().drop(columns = 'index').loc[g,'away_name']\n",
        "        home_team = X_test.reset_index().drop(columns = 'index').loc[g,'home_name']\n",
        "        print(f'The {away_team} have a probability of {win_prob} of beating the {home_team}.')"
      ],
      "execution_count": null,
      "outputs": []
    },
    {
      "cell_type": "code",
      "metadata": {
        "id": "U-ZVtLG-FOyI"
      },
      "source": [
        "def odds(y_pred,X_test):\n",
        "    for g in range(len(y_pred)):\n",
        "        win_prob = round(y_pred[g],2)\n",
        "        win_prob = win_prob.astype(np.float64)\n",
        "        away_team = X_test.reset_index().drop(columns = 'index').loc[g,'away_name']\n",
        "        home_team = X_test.reset_index().drop(columns = 'index').loc[g,'home_name']\n",
        "        win_probH = 1 - win_prob\n",
        "\n",
        "        if win_prob >= 0.5:\n",
        "          odds = - (win_prob / (1 - win_prob)) *100\n",
        "          print(f'The {away_team} have a odds of {odds} of beating the {home_team}.')\n",
        "        elif win_prob < 0.5:\n",
        "          bodds = ((1 - win_prob)/(win_prob) *100)\n",
        "          print(f'DNB: The {away_team} have a odds of {bodds} of beating the {home_team}.')\n",
        "       \n",
        "        if win_probH >= 0.5:\n",
        "          oddsH = - (win_probH / (1 - win_probH)) *100\n",
        "          print(f'The {home_team} have a odds of {oddsH} of beating the {away_team}.')\n",
        "        elif win_probH < 0.5:\n",
        "          boddsH = ((1 - win_probH)/(win_probH) *100)\n",
        "          print(f'DNB: The {home_team} have a odds of {boddsH} of beating the {away_team}.')"
      ],
      "execution_count": null,
      "outputs": []
    },
    {
      "cell_type": "code",
      "metadata": {
        "id": "dJ87CDtvGvmt"
      },
      "source": [
        "current_week = 17\n",
        "weeks = list(range(1,current_week + 1))\n",
        "year = 2020\n",
        "\n",
        "pred_games_df, comp_games_df = prep_test_train(current_week,weeks,year)"
      ],
      "execution_count": null,
      "outputs": []
    },
    {
      "cell_type": "markdown",
      "metadata": {
        "id": "rbAFaGsDGwQC"
      },
      "source": [
        "Week 9 games have not finished yet."
      ]
    },
    {
      "cell_type": "code",
      "metadata": {
        "id": "RlhF8DjLGyfz"
      },
      "source": [
        "pred_games_df"
      ],
      "execution_count": null,
      "outputs": []
    },
    {
      "cell_type": "code",
      "metadata": {
        "id": "T0LbmRbKG1OW"
      },
      "source": [
        "comp_games_df"
      ],
      "execution_count": null,
      "outputs": []
    },
    {
      "cell_type": "code",
      "metadata": {
        "id": "wq9XY0IGAbIL"
      },
      "source": [
        "#from google.colab import files\n",
        "#comp_games_df.to_csv('filename.csv') \n",
        "#files.download('filename.csv')"
      ],
      "execution_count": null,
      "outputs": []
    },
    {
      "cell_type": "code",
      "metadata": {
        "id": "z7SCLeU_G4Bz"
      },
      "source": [
        "msk = np.random.rand(len(comp_games_df)) < 0.8\n",
        "\n",
        "train_df = comp_games_df[msk]\n",
        "test_df = comp_games_df[~msk]\n",
        "\n",
        "X_train = train_df.drop(columns = ['away_name', 'away_abbr', 'home_name', 'home_abbr', 'week','result'])\n",
        "y_train = train_df[['result']] \n",
        "X_test = test_df.drop(columns = ['away_name', 'away_abbr', 'home_name', 'home_abbr', 'week','result'])\n",
        "y_test = test_df[['result']]"
      ],
      "execution_count": null,
      "outputs": []
    },
    {
      "cell_type": "code",
      "metadata": {
        "id": "ciyeApkyf1u1"
      },
      "source": [
        "#X_train.fillna(X_train.mean())\n",
        "#y_train.fillna(y_train.mean())\n",
        "\n",
        "#np.where(X_train.values >= np.finfo(np.float64).max)\n",
        "#np.where(y_train.values >= np.finfo(np.float64).max)"
      ],
      "execution_count": null,
      "outputs": []
    },
    {
      "cell_type": "code",
      "metadata": {
        "id": "1twewecAfCaP"
      },
      "source": [
        "#from google.colab import files\n",
        "#X_train.to_csv('filename.csv') \n",
        "#files.download('filename.csv')"
      ],
      "execution_count": null,
      "outputs": []
    },
    {
      "cell_type": "code",
      "metadata": {
        "id": "EwihTfKWG5eS"
      },
      "source": [
        "from sklearn.linear_model import LogisticRegression\n",
        "\n",
        "clf = LogisticRegression(penalty='l1', dual=False, tol=0.001, C=1.0, fit_intercept=True, \n",
        "                   intercept_scaling=1, class_weight='balanced', random_state=None, \n",
        "                   solver='liblinear', max_iter=1000, multi_class='ovr', verbose=0)\n",
        "\n",
        "clf.fit(X_train, np.ravel(y_train.values))\n",
        "y_pred = clf.predict_proba(X_test)\n",
        "y_pred = y_pred[:,1]\n",
        "\n",
        "display(y_pred,test_df)"
      ],
      "execution_count": null,
      "outputs": []
    },
    {
      "cell_type": "code",
      "metadata": {
        "id": "L7hkYJTmG9DI"
      },
      "source": [
        "from sklearn.metrics import accuracy_score\n",
        "\n",
        "accuracy_score(y_test,np.round(y_pred))"
      ],
      "execution_count": null,
      "outputs": []
    },
    {
      "cell_type": "code",
      "metadata": {
        "id": "k539aRE2G_Hb"
      },
      "source": [
        "import xgboost as xgb\n",
        "\n",
        "dtest = xgb.DMatrix(X_test, y_test, feature_names=X_test.columns)\n",
        "dtrain = xgb.DMatrix(X_train, y_train,feature_names=X_train.columns)\n",
        "\n",
        "param = {'verbosity':1, \n",
        "         'objective':'binary:hinge',\n",
        "         'feature_selector': 'shuffle',\n",
        "         'booster':'gblinear',\n",
        "         'eval_metric' :'error',\n",
        "         'learning_rate': 0.05}\n",
        "\n",
        "evallist = [(dtrain, 'train'), (dtest, 'test')]"
      ],
      "execution_count": null,
      "outputs": []
    },
    {
      "cell_type": "code",
      "metadata": {
        "id": "7cSKvaxPHAxP"
      },
      "source": [
        "num_round = 300\n",
        "bst = xgb.train(param, dtrain, num_round, evallist)"
      ],
      "execution_count": null,
      "outputs": []
    },
    {
      "cell_type": "code",
      "metadata": {
        "id": "pFPc-QL6HD45"
      },
      "source": [
        "X_test = pred_games_df.drop(columns = ['away_name', 'away_abbr', 'home_name', 'home_abbr', 'week','result'])\n",
        "y_pred = clf.predict_proba(X_test)\n",
        "y_pred = y_pred[:,1]\n",
        "\n",
        "display(y_pred,pred_games_df)"
      ],
      "execution_count": null,
      "outputs": []
    },
    {
      "cell_type": "code",
      "metadata": {
        "id": "O7wL25H_H2Ic"
      },
      "source": [
        "odds(y_pred,pred_games_df)"
      ],
      "execution_count": null,
      "outputs": []
    },
    {
      "cell_type": "code",
      "metadata": {
        "id": "wPOkEeG1HF7p"
      },
      "source": [
        " #array([1., 1., 0., 1., 1., 1., 0., 1., 1., 1., 1., 0., 1., 1.],dtype=float32)"
      ],
      "execution_count": null,
      "outputs": []
    }
  ]
}